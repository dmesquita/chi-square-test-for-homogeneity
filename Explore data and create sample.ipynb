{
 "cells": [
  {
   "cell_type": "code",
   "execution_count": 1,
   "metadata": {},
   "outputs": [],
   "source": [
    "import pandas as pd"
   ]
  },
  {
   "cell_type": "code",
   "execution_count": 7,
   "metadata": {},
   "outputs": [],
   "source": [
    "df = pd.read_json(\"mentions_data.json\")"
   ]
  },
  {
   "cell_type": "code",
   "execution_count": 8,
   "metadata": {},
   "outputs": [
    {
     "data": {
      "text/html": [
       "<div>\n",
       "<style scoped>\n",
       "    .dataframe tbody tr th:only-of-type {\n",
       "        vertical-align: middle;\n",
       "    }\n",
       "\n",
       "    .dataframe tbody tr th {\n",
       "        vertical-align: top;\n",
       "    }\n",
       "\n",
       "    .dataframe thead th {\n",
       "        text-align: right;\n",
       "    }\n",
       "</style>\n",
       "<table border=\"1\" class=\"dataframe\">\n",
       "  <thead>\n",
       "    <tr style=\"text-align: right;\">\n",
       "      <th></th>\n",
       "      <th>city</th>\n",
       "      <th>mention</th>\n",
       "      <th>message</th>\n",
       "      <th>sent_at</th>\n",
       "    </tr>\n",
       "  </thead>\n",
       "  <tbody>\n",
       "    <tr>\n",
       "      <th>0</th>\n",
       "      <td>SanFrancisco</td>\n",
       "      <td>NO</td>\n",
       "      <td>-----\\n\\n-----\\n\\n-----\\n## This room will be ...</td>\n",
       "      <td>2016-09-17 11:02:20.597</td>\n",
       "    </tr>\n",
       "    <tr>\n",
       "      <th>1</th>\n",
       "      <td>SanFrancisco</td>\n",
       "      <td>NO</td>\n",
       "      <td>Evening. Working on the Roman Numeral converte...</td>\n",
       "      <td>2016-09-07 01:22:55.929</td>\n",
       "    </tr>\n",
       "    <tr>\n",
       "      <th>2</th>\n",
       "      <td>SanFrancisco</td>\n",
       "      <td>NO</td>\n",
       "      <td>Evening. nodeSchool is a nice crash course int...</td>\n",
       "      <td>2016-09-02 02:30:24.478</td>\n",
       "    </tr>\n",
       "    <tr>\n",
       "      <th>3</th>\n",
       "      <td>SanFrancisco</td>\n",
       "      <td>NO</td>\n",
       "      <td>And a console tutorial app</td>\n",
       "      <td>2016-08-31 14:19:49.484</td>\n",
       "    </tr>\n",
       "    <tr>\n",
       "      <th>4</th>\n",
       "      <td>SanFrancisco</td>\n",
       "      <td>NO</td>\n",
       "      <td>Download it and try it</td>\n",
       "      <td>2016-08-31 14:19:44.212</td>\n",
       "    </tr>\n",
       "  </tbody>\n",
       "</table>\n",
       "</div>"
      ],
      "text/plain": [
       "           city mention                                            message  \\\n",
       "0  SanFrancisco      NO  -----\\n\\n-----\\n\\n-----\\n## This room will be ...   \n",
       "1  SanFrancisco      NO  Evening. Working on the Roman Numeral converte...   \n",
       "2  SanFrancisco      NO  Evening. nodeSchool is a nice crash course int...   \n",
       "3  SanFrancisco      NO                         And a console tutorial app   \n",
       "4  SanFrancisco      NO                             Download it and try it   \n",
       "\n",
       "                  sent_at  \n",
       "0 2016-09-17 11:02:20.597  \n",
       "1 2016-09-07 01:22:55.929  \n",
       "2 2016-09-02 02:30:24.478  \n",
       "3 2016-08-31 14:19:49.484  \n",
       "4 2016-08-31 14:19:44.212  "
      ]
     },
     "execution_count": 8,
     "metadata": {},
     "output_type": "execute_result"
    }
   ],
   "source": [
    "df.head()"
   ]
  },
  {
   "cell_type": "code",
   "execution_count": 9,
   "metadata": {},
   "outputs": [
    {
     "data": {
      "text/plain": [
       "NO     244\n",
       "YES    191\n",
       "Name: mention, dtype: int64"
      ]
     },
     "execution_count": 9,
     "metadata": {},
     "output_type": "execute_result"
    }
   ],
   "source": [
    "df[df[\"city\"]==\"SaoPaulo\"][\"mention\"].value_counts()"
   ]
  },
  {
   "cell_type": "code",
   "execution_count": 10,
   "metadata": {},
   "outputs": [
    {
     "data": {
      "text/plain": [
       "SanFrancisco    1129\n",
       "Belgrade         840\n",
       "Toronto          761\n",
       "Boston           712\n",
       "London           455\n",
       "SaoPaulo         435\n",
       "Name: city, dtype: int64"
      ]
     },
     "execution_count": 10,
     "metadata": {},
     "output_type": "execute_result"
    }
   ],
   "source": [
    "df[\"city\"].value_counts()[:60]"
   ]
  },
  {
   "cell_type": "code",
   "execution_count": 11,
   "metadata": {},
   "outputs": [
    {
     "data": {
      "text/plain": [
       "NO     3427\n",
       "YES     905\n",
       "Name: mention, dtype: int64"
      ]
     },
     "execution_count": 11,
     "metadata": {},
     "output_type": "execute_result"
    }
   ],
   "source": [
    "df[\"mention\"].value_counts()"
   ]
  },
  {
   "cell_type": "code",
   "execution_count": 12,
   "metadata": {},
   "outputs": [
    {
     "name": "stdout",
     "output_type": "stream",
     "text": [
      "SanFrancisco: First message: 2015-07-01 21:04:40.407000 Last messages: 2016-09-17 11:02:20.597000\n",
      "Toronto: First message: 2015-07-01 22:17:33.800000 Last messages: 2016-12-16 08:45:00.131000\n",
      "Belgrade: First message: 2015-07-01 22:07:16.616000 Last messages: 2016-11-25 22:50:02.154000\n",
      "London: First message: 2015-07-01 23:00:41.541000 Last messages: 2016-09-05 02:03:33.978000\n",
      "SaoPaulo: First message: 2015-07-02 23:18:00.855000 Last messages: 2016-08-16 00:45:03.464000\n"
     ]
    }
   ],
   "source": [
    "cities = [\"SanFrancisco\", \"Toronto\", \"Belgrade\", \"London\", \"SaoPaulo\"]\n",
    "for city in cities:\n",
    "    temp = df[df[\"city\"]==city][\"sent_at\"].describe()\n",
    "    print(city+\": First message:\",temp[\"first\"],\"Last messages:\",temp[\"last\"])"
   ]
  },
  {
   "cell_type": "code",
   "execution_count": 13,
   "metadata": {},
   "outputs": [],
   "source": [
    "date_mask = (df['sent_at'] > \"2015-08-16 23:18:00.855000\") & (df['sent_at'] <= \"2016-08-16 00:45:03.464000\")"
   ]
  },
  {
   "cell_type": "code",
   "execution_count": 14,
   "metadata": {},
   "outputs": [
    {
     "name": "stderr",
     "output_type": "stream",
     "text": [
      "/home/deborah/anaconda3/lib/python3.7/site-packages/ipykernel_launcher.py:1: UserWarning: Boolean Series key will be reindexed to match DataFrame index.\n",
      "  \"\"\"Entry point for launching an IPython kernel.\n"
     ]
    },
    {
     "data": {
      "text/plain": [
       "NO     151\n",
       "YES    134\n",
       "Name: mention, dtype: int64"
      ]
     },
     "execution_count": 14,
     "metadata": {},
     "output_type": "execute_result"
    }
   ],
   "source": [
    "df.loc[date_mask][df[\"city\"]==\"SaoPaulo\"][\"mention\"].value_counts()"
   ]
  },
  {
   "cell_type": "code",
   "execution_count": 15,
   "metadata": {},
   "outputs": [
    {
     "name": "stderr",
     "output_type": "stream",
     "text": [
      "/home/deborah/anaconda3/lib/python3.7/site-packages/ipykernel_launcher.py:1: UserWarning: Boolean Series key will be reindexed to match DataFrame index.\n",
      "  \"\"\"Entry point for launching an IPython kernel.\n"
     ]
    }
   ],
   "source": [
    "df.loc[date_mask][df[\"city\"].isin(cities)].to_json(\"experiment_sample_data.json\",orient=\"records\")"
   ]
  },
  {
   "cell_type": "code",
   "execution_count": 16,
   "metadata": {},
   "outputs": [
    {
     "data": {
      "text/html": [
       "<div>\n",
       "<style scoped>\n",
       "    .dataframe tbody tr th:only-of-type {\n",
       "        vertical-align: middle;\n",
       "    }\n",
       "\n",
       "    .dataframe tbody tr th {\n",
       "        vertical-align: top;\n",
       "    }\n",
       "\n",
       "    .dataframe thead tr th {\n",
       "        text-align: left;\n",
       "    }\n",
       "\n",
       "    .dataframe thead tr:last-of-type th {\n",
       "        text-align: right;\n",
       "    }\n",
       "</style>\n",
       "<table border=\"1\" class=\"dataframe\">\n",
       "  <thead>\n",
       "    <tr>\n",
       "      <th></th>\n",
       "      <th colspan=\"6\" halign=\"left\">message</th>\n",
       "      <th colspan=\"6\" halign=\"left\">sent_at</th>\n",
       "    </tr>\n",
       "    <tr>\n",
       "      <th>city</th>\n",
       "      <th>Belgrade</th>\n",
       "      <th>Boston</th>\n",
       "      <th>London</th>\n",
       "      <th>SanFrancisco</th>\n",
       "      <th>SaoPaulo</th>\n",
       "      <th>Toronto</th>\n",
       "      <th>Belgrade</th>\n",
       "      <th>Boston</th>\n",
       "      <th>London</th>\n",
       "      <th>SanFrancisco</th>\n",
       "      <th>SaoPaulo</th>\n",
       "      <th>Toronto</th>\n",
       "    </tr>\n",
       "    <tr>\n",
       "      <th>mention</th>\n",
       "      <th></th>\n",
       "      <th></th>\n",
       "      <th></th>\n",
       "      <th></th>\n",
       "      <th></th>\n",
       "      <th></th>\n",
       "      <th></th>\n",
       "      <th></th>\n",
       "      <th></th>\n",
       "      <th></th>\n",
       "      <th></th>\n",
       "      <th></th>\n",
       "    </tr>\n",
       "  </thead>\n",
       "  <tbody>\n",
       "    <tr>\n",
       "      <th>NO</th>\n",
       "      <td>771</td>\n",
       "      <td>548</td>\n",
       "      <td>342</td>\n",
       "      <td>991</td>\n",
       "      <td>244</td>\n",
       "      <td>531</td>\n",
       "      <td>771</td>\n",
       "      <td>548</td>\n",
       "      <td>342</td>\n",
       "      <td>991</td>\n",
       "      <td>244</td>\n",
       "      <td>531</td>\n",
       "    </tr>\n",
       "    <tr>\n",
       "      <th>YES</th>\n",
       "      <td>69</td>\n",
       "      <td>164</td>\n",
       "      <td>113</td>\n",
       "      <td>138</td>\n",
       "      <td>191</td>\n",
       "      <td>230</td>\n",
       "      <td>69</td>\n",
       "      <td>164</td>\n",
       "      <td>113</td>\n",
       "      <td>138</td>\n",
       "      <td>191</td>\n",
       "      <td>230</td>\n",
       "    </tr>\n",
       "  </tbody>\n",
       "</table>\n",
       "</div>"
      ],
      "text/plain": [
       "         message                                              sent_at         \\\n",
       "city    Belgrade Boston London SanFrancisco SaoPaulo Toronto Belgrade Boston   \n",
       "mention                                                                        \n",
       "NO           771    548    342          991      244     531      771    548   \n",
       "YES           69    164    113          138      191     230       69    164   \n",
       "\n",
       "                                              \n",
       "city    London SanFrancisco SaoPaulo Toronto  \n",
       "mention                                       \n",
       "NO         342          991      244     531  \n",
       "YES        113          138      191     230  "
      ]
     },
     "execution_count": 16,
     "metadata": {},
     "output_type": "execute_result"
    }
   ],
   "source": [
    "df.pivot_table(index=['mention'], columns='city', aggfunc='count')"
   ]
  }
 ],
 "metadata": {
  "kernelspec": {
   "display_name": "Python 3",
   "language": "python",
   "name": "python3"
  },
  "language_info": {
   "codemirror_mode": {
    "name": "ipython",
    "version": 3
   },
   "file_extension": ".py",
   "mimetype": "text/x-python",
   "name": "python",
   "nbconvert_exporter": "python",
   "pygments_lexer": "ipython3",
   "version": "3.7.0"
  }
 },
 "nbformat": 4,
 "nbformat_minor": 2
}
